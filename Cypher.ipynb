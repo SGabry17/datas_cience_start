{
    "cells": [
        {
            "cell_type": "code",
            "execution_count": 1,
            "id": "fc4e9e25",
            "metadata": {},
            "outputs": [
                {
                    "name": "stdout",
                    "output_type": "stream",
                    "text": "Enter message: Abby bb\nEnter cipher's shift (1..25): 15\nPqqn qq\n"
                }
            ],
            "source": "# input text to encrypt\ntext = input(\"Enter message: \")\n\n# enter valid shift value (repeat until it succeeds)\nshift = 0\n\nwhile shift == 0:\n    try:    \n        shift = int(input(\"Enter cipher's shift (1..25): \"))\n        if shift not in range(1,26):\n        \traise ValueError\n    except ValueError:\n        shift = 0\n    if shift == 0:\n        print(\"Bad shift value!\")\n\ncipher = ''\n\nfor char in text:\n    # is it a letter?\n    if char.isalpha():\n        # shift its code\n        code = ord(char) + shift\n        # find the code of the first letter (upper- or lower-case)\n        if char.isupper():\n            first = ord('A')\n        else:\n            first = ord('a')\n        # make correction\n        code -= first\n        code %= 26\n        # append encoded character to message\n        cipher += chr(first + code)\n    else:\n        # append original character to message\n        cipher += char\n\nprint(cipher)"
        },
        {
            "cell_type": "code",
            "execution_count": null,
            "id": "ec2d0832",
            "metadata": {},
            "outputs": [],
            "source": ""
        }
    ],
    "metadata": {
        "kernelspec": {
            "display_name": "Python 3.9",
            "language": "python",
            "name": "python3"
        },
        "language_info": {
            "codemirror_mode": {
                "name": "ipython",
                "version": 3
            },
            "file_extension": ".py",
            "mimetype": "text/x-python",
            "name": "python",
            "nbconvert_exporter": "python",
            "pygments_lexer": "ipython3",
            "version": "3.9.12"
        }
    },
    "nbformat": 4,
    "nbformat_minor": 5
}